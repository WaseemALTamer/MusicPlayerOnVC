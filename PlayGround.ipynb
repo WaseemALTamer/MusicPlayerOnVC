{
 "cells": [
  {
   "cell_type": "code",
   "execution_count": null,
   "metadata": {},
   "outputs": [],
   "source": [
    "import subprocess\n",
    "\n",
    "\n",
    "# URL to download\n",
    "URLS = ['https://www.youtube.com/watch?v=1DCiUhNn9rc']\n",
    "\n",
    "# Command to run yt-dlp and stream raw audio\n",
    "cmd = [\n",
    "    'yt-dlp',\n",
    "    '--format', 'bestaudio/best',\n",
    "    '--quiet',\n",
    "    '--no-warnings',\n",
    "    '-o', '-',  # Stream to stdout\n",
    "    *URLS\n",
    "]\n",
    "\n",
    "# FFMPEG command to convert to MP3 and output to stdout\n",
    "ffmpeg_cmd = [\n",
    "    'ffmpeg',\n",
    "    '-i', 'pipe:0',  # Input from stdin\n",
    "    '-f', 'mp3',     # Format as MP3\n",
    "    '-acodec', 'libmp3lame',  # Use MP3 codec\n",
    "    '-ab', '192k',   # Bitrate\n",
    "    'pipe:1'         # Output to stdout\n",
    "]\n",
    "\n",
    "# Start yt-dlp process to fetch raw audio\n",
    "yt_dlp_process = subprocess.Popen(cmd, stdout=subprocess.PIPE, stderr=subprocess.PIPE)\n",
    "ffmpeg_process = subprocess.Popen(ffmpeg_cmd, stdin=yt_dlp_process.stdout, stdout=subprocess.PIPE, stderr=subprocess.PIPE)\n",
    "\n",
    "# Capture the MP3 output in memory\n",
    "mp3_output, ffmpeg_errors = ffmpeg_process.communicate()\n",
    "\n",
    "# Wait for yt-dlp process to complete\n",
    "yt_dlp_process.wait()\n",
    "\n",
    "# Check for errors\n",
    "if yt_dlp_process.returncode == 0 and ffmpeg_process.returncode == 0:\n",
    "    # Write MP3 data to memory or a file as needed\n",
    "    print(\"Audio successfully streamed and processed.\")\n",
    "else:\n",
    "    print(\"An error occurred:\")\n",
    "    print(ffmpeg_errors.decode())\n"
   ]
  },
  {
   "cell_type": "code",
   "execution_count": null,
   "metadata": {},
   "outputs": [],
   "source": [
    "with open(\"output.mp3u\", \"wb\") as f:\n",
    "    f.write(mp3_output)"
   ]
  },
  {
   "cell_type": "code",
   "execution_count": null,
   "metadata": {},
   "outputs": [],
   "source": [
    "len(mp3_output)"
   ]
  },
  {
   "cell_type": "code",
   "execution_count": null,
   "metadata": {},
   "outputs": [],
   "source": [
    "mp3_output = None"
   ]
  },
  {
   "cell_type": "code",
   "execution_count": null,
   "metadata": {},
   "outputs": [],
   "source": [
    "#==================================\n",
    "#Test the audio\n",
    "\n",
    "\n",
    "import pygame\n",
    "import io\n",
    "import tempfile\n",
    "\n",
    "# Initialize pygame mixer\n",
    "pygame.mixer.init()\n",
    "\n",
    "def play_mp3_from_buffer(buffer):\n",
    "    # Create a temporary file and write the buffer to it\n",
    "    with tempfile.NamedTemporaryFile(delete=False, suffix='.mp3') as temp_file:\n",
    "        temp_file.write(buffer)\n",
    "        temp_filename = temp_file.name\n",
    "    \n",
    "    # Load the MP3 file and play it\n",
    "    pygame.mixer.music.load(temp_filename)\n",
    "    pygame.mixer.music.play()\n",
    "\n",
    "    # Wait for the music to finish playing\n",
    "    while pygame.mixer.music.get_busy():\n",
    "        pygame.time.Clock().tick(10)\n",
    "\n",
    "# Example: Replace `buffer` with your actual MP3 buffer\n",
    "play_mp3_from_buffer(mp3_output)"
   ]
  },
  {
   "cell_type": "code",
   "execution_count": null,
   "metadata": {},
   "outputs": [],
   "source": [
    "from pytube import YouTube\n",
    "\n",
    "# URL of the video\n",
    "url = \"https://www.youtube.com/watch?v=1DCiUhNn9rc\"\n",
    "\n",
    "# Create a YouTube object\n",
    "yt = YouTube(url)\n",
    "\n",
    "# Retrieve the video title\n",
    "video_title = yt.title\n",
    "\n",
    "# Print the video title\n",
    "print(f\"Video Title: {video_title}\")"
   ]
  },
  {
   "cell_type": "code",
   "execution_count": null,
   "metadata": {},
   "outputs": [],
   "source": [
    "from YTMGraper import Graper\n",
    "\n",
    "x = Graper()\n",
    "x.Preparing(\"https://www.youtube.com/watch?v=PFuxS_NHeAQ\")\n",
    "Data = x.Donwload(\"watch?v=PFuxS_NHeAQ\")"
   ]
  },
  {
   "cell_type": "code",
   "execution_count": null,
   "metadata": {},
   "outputs": [],
   "source": [
    "print(x.AudioData[\"watch?v=PFuxS_NHeAQ\"].Status)"
   ]
  },
  {
   "cell_type": "code",
   "execution_count": null,
   "metadata": {},
   "outputs": [],
   "source": [
    "from GuildPlayer import Player\n",
    "\n",
    "p = Player()\n"
   ]
  },
  {
   "cell_type": "code",
   "execution_count": null,
   "metadata": {},
   "outputs": [],
   "source": [
    "p.AddToQueue(\"https://www.youtube.com/watch?v=y_PG2P_v5l4\")"
   ]
  },
  {
   "cell_type": "code",
   "execution_count": null,
   "metadata": {},
   "outputs": [],
   "source": [
    "p.Update()"
   ]
  },
  {
   "cell_type": "code",
   "execution_count": null,
   "metadata": {},
   "outputs": [],
   "source": [
    "Objects = {1:\"hi\",2:\"hi\",3:\"hi\",4:\"hi\"}\n",
    "\n",
    "try:\n",
    "    Objects[\"2\"]\n",
    "except:\n",
    "    Objects[\"2\"] = 10\n",
    "\n",
    "Objects"
   ]
  },
  {
   "cell_type": "code",
   "execution_count": null,
   "metadata": {},
   "outputs": [],
   "source": [
    "import random\n",
    "\n",
    "input_list= [1,2,3,4,5]\n",
    "\n",
    "random.shuffle(input_list)\n",
    "\n",
    "print(input_list)\n"
   ]
  },
  {
   "cell_type": "code",
   "execution_count": null,
   "metadata": {},
   "outputs": [],
   "source": [
    "from pytube import YouTube\n",
    "\n",
    "_yt = YouTube(\"https://www.youtube.com/watch?v=Ds_vtNDw1Ps\")\n",
    "_video_title = _yt.title"
   ]
  },
  {
   "cell_type": "code",
   "execution_count": null,
   "metadata": {},
   "outputs": [],
   "source": [
    "class Object:\n",
    "    def __init__(self):\n",
    "        Var = False\n",
    "\n",
    "x = [Object()]\n",
    "\n",
    "\n",
    "for _object in x:\n",
    "    _object.Var = True\n",
    "\n",
    "x[0].__dict__\n"
   ]
  },
  {
   "cell_type": "code",
   "execution_count": null,
   "metadata": {},
   "outputs": [],
   "source": [
    "x = [2,3]\n",
    "\n",
    "x.insert(0,1)\n",
    "\n",
    "x"
   ]
  },
  {
   "cell_type": "code",
   "execution_count": null,
   "metadata": {},
   "outputs": [],
   "source": [
    "None == 0"
   ]
  },
  {
   "cell_type": "code",
   "execution_count": null,
   "metadata": {},
   "outputs": [],
   "source": [
    "import requests\n",
    "from youtubesearchpython import VideosSearch\n",
    "import re\n",
    "\n",
    "def spotify_to_youtube(spotify_url):\n",
    "    # Fetch the Spotify track HTML page\n",
    "    headers = {\n",
    "        \"User-Agent\": \"Mozilla/5.0\"\n",
    "    }\n",
    "    response = requests.get(spotify_url, headers=headers)\n",
    "    \n",
    "    if response.status_code != 200:\n",
    "        raise Exception(\"Failed to load Spotify page\")\n",
    "    \n",
    "    # Try to extract track name and artist from HTML\n",
    "    html = response.text\n",
    "\n",
    "    return html    \n",
    "\n",
    "\n",
    "# Example usage\n",
    "spotify_url = 'https://open.spotify.com/track/5CtI0qwDJkDQGwXD1H1cLb'\n",
    "youtube_url = spotify_to_youtube(spotify_url)\n",
    "\n",
    "youtube_url"
   ]
  },
  {
   "cell_type": "code",
   "execution_count": null,
   "metadata": {},
   "outputs": [],
   "source": [
    "import yt_dlp\n",
    "\n",
    "def get_audio_m3u8(youtube_url):\n",
    "    ydl_opts = {\n",
    "        'quiet': True,\n",
    "        'skip_download': True,\n",
    "        'no_warnings': True\n",
    "    }\n",
    "\n",
    "    with yt_dlp.YoutubeDL(ydl_opts) as ydl:\n",
    "        info = ydl.extract_info(youtube_url, download=False)\n",
    "        title = info.get('title')\n",
    "\n",
    "        # Filter audio-only formats that use m3u8\n",
    "        m3u8_audio_url = None\n",
    "        for fmt in info.get('formats', []):\n",
    "            if (\n",
    "                fmt.get('protocol') in ['m3u8', 'm3u8_native']\n",
    "                and fmt.get('vcodec') == 'none'  # means audio-only\n",
    "            ):\n",
    "                m3u8_audio_url = fmt.get('url')\n",
    "                break\n",
    "\n",
    "        return title, m3u8_audio_url\n",
    "    \n",
    "# Example usage\n",
    "url = \"https://www.youtube.com/watch?v=rKB9TBlFhNA\"\n",
    "title, m3u8 = get_audio_m3u8(url)\n",
    "print(\"Title:\", title)\n",
    "print(\"M3U8 URL:\", m3u8)\n"
   ]
  },
  {
   "cell_type": "code",
   "execution_count": null,
   "metadata": {},
   "outputs": [],
   "source": [
    "from urllib.parse import urlparse, parse_qs\n",
    "import yt_dlp\n",
    "\n",
    "\n",
    "def extract_playlist_id(youtube_url):\n",
    "        parsed_url = urlparse(youtube_url)\n",
    "        query_params = parse_qs(parsed_url.query)\n",
    "        return query_params.get('list', [None])[0]\n",
    "\n",
    "def PlaylistHerfsRequest(playlist_url):\n",
    "    ydl_opts = {\n",
    "        'ignoreerrors': True,\n",
    "        'quiet': True,\n",
    "        'extract_flat': True,\n",
    "    }\n",
    "    _id = extract_playlist_id(playlist_url)\n",
    "    canonical_url = f\"https://www.youtube.com/playlist?list={_id}\"\n",
    "    \n",
    "    with yt_dlp.YoutubeDL(ydl_opts) as ydl:\n",
    "        info = ydl.extract_info(canonical_url, download=False)\n",
    "        if info is None:\n",
    "            return []\n",
    "        \n",
    "        videos_info = []\n",
    "        entries = info.get('entries')\n",
    "        if not entries:\n",
    "            raise ValueError(\"No videos found in the playlist or playlist is private/unavailable.\")\n",
    "        \n",
    "        for entry in entries:\n",
    "            if entry is None:\n",
    "                continue\n",
    "            title = entry.get('title')\n",
    "            video_id = entry.get('id')\n",
    "            if not title or not video_id:\n",
    "                continue\n",
    "            url = f\"https://www.youtube.com/watch?v={video_id}\"\n",
    "            videos_info.append([title, url])\n",
    "    \n",
    "    return videos_info\n",
    "\n",
    "# Example usage:\n",
    "playlist_url = \"https://www.youtube.com/watch?v=1EF0VOd3WGA&list=PLTo6svdhIL1cxS4ffGueFpVCF756ip-ab\"\n",
    "videos = PlaylistHerfsRequest(playlist_url)\n",
    "\n",
    "videos\n"
   ]
  }
 ],
 "metadata": {
  "kernelspec": {
   "display_name": "Python 3",
   "language": "python",
   "name": "python3"
  },
  "language_info": {
   "codemirror_mode": {
    "name": "ipython",
    "version": 3
   },
   "file_extension": ".py",
   "mimetype": "text/x-python",
   "name": "python",
   "nbconvert_exporter": "python",
   "pygments_lexer": "ipython3",
   "version": "3.12.4"
  }
 },
 "nbformat": 4,
 "nbformat_minor": 2
}
