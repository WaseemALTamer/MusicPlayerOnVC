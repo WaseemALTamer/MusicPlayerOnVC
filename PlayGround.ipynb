{
 "cells": [
  {
   "cell_type": "code",
   "execution_count": null,
   "metadata": {},
   "outputs": [],
   "source": [
    "import subprocess\n",
    "\n",
    "\n",
    "# URL to download\n",
    "URLS = ['https://www.youtube.com/watch?v=1DCiUhNn9rc']\n",
    "\n",
    "# Command to run yt-dlp and stream raw audio\n",
    "cmd = [\n",
    "    'yt-dlp',\n",
    "    '--format', 'bestaudio/best',\n",
    "    '--quiet',\n",
    "    '--no-warnings',\n",
    "    '-o', '-',  # Stream to stdout\n",
    "    *URLS\n",
    "]\n",
    "\n",
    "# FFMPEG command to convert to MP3 and output to stdout\n",
    "ffmpeg_cmd = [\n",
    "    'ffmpeg',\n",
    "    '-i', 'pipe:0',  # Input from stdin\n",
    "    '-f', 'mp3',     # Format as MP3\n",
    "    '-acodec', 'libmp3lame',  # Use MP3 codec\n",
    "    '-ab', '192k',   # Bitrate\n",
    "    'pipe:1'         # Output to stdout\n",
    "]\n",
    "\n",
    "# Start yt-dlp process to fetch raw audio\n",
    "yt_dlp_process = subprocess.Popen(cmd, stdout=subprocess.PIPE, stderr=subprocess.PIPE)\n",
    "ffmpeg_process = subprocess.Popen(ffmpeg_cmd, stdin=yt_dlp_process.stdout, stdout=subprocess.PIPE, stderr=subprocess.PIPE)\n",
    "\n",
    "# Capture the MP3 output in memory\n",
    "mp3_output, ffmpeg_errors = ffmpeg_process.communicate()\n",
    "\n",
    "# Wait for yt-dlp process to complete\n",
    "yt_dlp_process.wait()\n",
    "\n",
    "# Check for errors\n",
    "if yt_dlp_process.returncode == 0 and ffmpeg_process.returncode == 0:\n",
    "    # Write MP3 data to memory or a file as needed\n",
    "    print(\"Audio successfully streamed and processed.\")\n",
    "else:\n",
    "    print(\"An error occurred:\")\n",
    "    print(ffmpeg_errors.decode())\n"
   ]
  },
  {
   "cell_type": "code",
   "execution_count": null,
   "metadata": {},
   "outputs": [],
   "source": [
    "with open(\"output.mp3u\", \"wb\") as f:\n",
    "    f.write(mp3_output)"
   ]
  },
  {
   "cell_type": "code",
   "execution_count": null,
   "metadata": {},
   "outputs": [],
   "source": [
    "len(mp3_output)"
   ]
  },
  {
   "cell_type": "code",
   "execution_count": null,
   "metadata": {},
   "outputs": [],
   "source": [
    "mp3_output = None"
   ]
  },
  {
   "cell_type": "code",
   "execution_count": null,
   "metadata": {},
   "outputs": [],
   "source": [
    "#==================================\n",
    "#Test the audio\n",
    "\n",
    "\n",
    "import pygame\n",
    "import io\n",
    "import tempfile\n",
    "\n",
    "# Initialize pygame mixer\n",
    "pygame.mixer.init()\n",
    "\n",
    "def play_mp3_from_buffer(buffer):\n",
    "    # Create a temporary file and write the buffer to it\n",
    "    with tempfile.NamedTemporaryFile(delete=False, suffix='.mp3') as temp_file:\n",
    "        temp_file.write(buffer)\n",
    "        temp_filename = temp_file.name\n",
    "    \n",
    "    # Load the MP3 file and play it\n",
    "    pygame.mixer.music.load(temp_filename)\n",
    "    pygame.mixer.music.play()\n",
    "\n",
    "    # Wait for the music to finish playing\n",
    "    while pygame.mixer.music.get_busy():\n",
    "        pygame.time.Clock().tick(10)\n",
    "\n",
    "# Example: Replace `buffer` with your actual MP3 buffer\n",
    "play_mp3_from_buffer(mp3_output)"
   ]
  },
  {
   "cell_type": "code",
   "execution_count": null,
   "metadata": {},
   "outputs": [],
   "source": [
    "from pytube import YouTube\n",
    "\n",
    "# URL of the video\n",
    "url = \"https://www.youtube.com/watch?v=1DCiUhNn9rc\"\n",
    "\n",
    "# Create a YouTube object\n",
    "yt = YouTube(url)\n",
    "\n",
    "# Retrieve the video title\n",
    "video_title = yt.title\n",
    "\n",
    "# Print the video title\n",
    "print(f\"Video Title: {video_title}\")"
   ]
  },
  {
   "cell_type": "code",
   "execution_count": null,
   "metadata": {},
   "outputs": [],
   "source": [
    "from YTMGraper import Graper\n",
    "\n",
    "x = Graper()\n",
    "x.Preparing(\"https://www.youtube.com/watch?v=PFuxS_NHeAQ\")\n",
    "Data = x.Donwload(\"watch?v=PFuxS_NHeAQ\")"
   ]
  },
  {
   "cell_type": "code",
   "execution_count": null,
   "metadata": {},
   "outputs": [],
   "source": [
    "print(x.AudioData[\"watch?v=PFuxS_NHeAQ\"].Status)"
   ]
  },
  {
   "cell_type": "code",
   "execution_count": 1,
   "metadata": {},
   "outputs": [],
   "source": [
    "from GuildPlayer import Player\n",
    "\n",
    "p = Player()\n"
   ]
  },
  {
   "cell_type": "code",
   "execution_count": 2,
   "metadata": {},
   "outputs": [],
   "source": [
    "p.AddToQueue(\"https://www.youtube.com/watch?v=y_PG2P_v5l4\")"
   ]
  },
  {
   "cell_type": "code",
   "execution_count": 14,
   "metadata": {},
   "outputs": [
    {
     "name": "stdout",
     "output_type": "stream",
     "text": [
      "Ready\n",
      "Music is playing waiting for it to end\n"
     ]
    }
   ],
   "source": [
    "p.Update()"
   ]
  },
  {
   "cell_type": "code",
   "execution_count": null,
   "metadata": {},
   "outputs": [
    {
     "ename": "TypeError",
     "evalue": "cannot unpack non-iterable int object",
     "output_type": "error",
     "traceback": [
      "\u001b[1;31m---------------------------------------------------------------------------\u001b[0m",
      "\u001b[1;31mTypeError\u001b[0m                                 Traceback (most recent call last)",
      "Cell \u001b[1;32mIn[3], line 4\u001b[0m\n\u001b[0;32m      1\u001b[0m Objects \u001b[38;5;241m=\u001b[39m {\u001b[38;5;241m1\u001b[39m:\u001b[38;5;124m\"\u001b[39m\u001b[38;5;124mhi\u001b[39m\u001b[38;5;124m\"\u001b[39m,\u001b[38;5;241m2\u001b[39m:\u001b[38;5;124m\"\u001b[39m\u001b[38;5;124mhi\u001b[39m\u001b[38;5;124m\"\u001b[39m,\u001b[38;5;241m3\u001b[39m:\u001b[38;5;124m\"\u001b[39m\u001b[38;5;124mhi\u001b[39m\u001b[38;5;124m\"\u001b[39m,\u001b[38;5;241m4\u001b[39m:\u001b[38;5;124m\"\u001b[39m\u001b[38;5;124mhi\u001b[39m\u001b[38;5;124m\"\u001b[39m}\n\u001b[1;32m----> 4\u001b[0m \u001b[38;5;28;01mfor\u001b[39;00m key, Object \u001b[38;5;129;01min\u001b[39;00m Objects:\n\u001b[0;32m      5\u001b[0m     \u001b[38;5;28mprint\u001b[39m(Object)\n",
      "\u001b[1;31mTypeError\u001b[0m: cannot unpack non-iterable int object"
     ]
    }
   ],
   "source": [
    "Objects = {1:\"hi\",2:\"hi\",3:\"hi\",4:\"hi\"}\n",
    "\n",
    "\n",
    "for key, Object in enumerate(Objects):\n",
    "    print(Object)"
   ]
  }
 ],
 "metadata": {
  "kernelspec": {
   "display_name": "Python 3",
   "language": "python",
   "name": "python3"
  },
  "language_info": {
   "codemirror_mode": {
    "name": "ipython",
    "version": 3
   },
   "file_extension": ".py",
   "mimetype": "text/x-python",
   "name": "python",
   "nbconvert_exporter": "python",
   "pygments_lexer": "ipython3",
   "version": "3.12.4"
  }
 },
 "nbformat": 4,
 "nbformat_minor": 2
}
